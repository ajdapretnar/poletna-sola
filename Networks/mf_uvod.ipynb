{
 "cells": [
  {
   "cell_type": "markdown",
   "metadata": {},
   "source": [
    "\n",
    "# Matrike in operacije\n",
    "<br/>\n",
    "\n",
    "<img src=\"img/img1.jpg\"/>\n"
   ]
  },
  {
   "cell_type": "code",
   "execution_count": null,
   "metadata": {
    "collapsed": false
   },
   "outputs": [],
   "source": [
    "import numpy as np\n",
    "import matplotlib.pyplot as plt\n",
    "np.set_printoptions(precision=3)"
   ]
  },
  {
   "cell_type": "markdown",
   "metadata": {},
   "source": [
    "Matrike so <i>urejena polja števil</i>, ki spominja na tabelo. V računalništvu so splošno uporabne, nas pa bo zanimala predvsem uporaba za shranjevanje številskih podatkov. "
   ]
  },
  {
   "cell_type": "code",
   "execution_count": null,
   "metadata": {
    "collapsed": false
   },
   "outputs": [],
   "source": [
    "A = np.array([[3,4],[4,3], [2, 1]])\n"
   ]
  },
  {
   "cell_type": "markdown",
   "metadata": {},
   "source": [
    "Matrika $\\textbf{A}$ je velikosti $3\\times3$. Tu je še ena matrika drugačne velikosti:"
   ]
  },
  {
   "cell_type": "code",
   "execution_count": null,
   "metadata": {
    "collapsed": false
   },
   "outputs": [],
   "source": [
    "B = np.array([[1,4,3,4],[1,3,2,4],])\n"
   ]
  },
  {
   "cell_type": "markdown",
   "metadata": {},
   "source": [
    "Oglejmo si matriko podatkov ocen filmov, ki ste jo zgradili z odgovori vprašalnik. "
   ]
  },
  {
   "cell_type": "code",
   "execution_count": null,
   "metadata": {
    "collapsed": false
   },
   "outputs": [],
   "source": [
    "X = np.loadtxt(open(\"data/vprasalnik.txt\", encoding=\"utf-8\"), skiprows=1, delimiter=\",\")\n",
    "X"
   ]
  },
  {
   "cell_type": "markdown",
   "metadata": {},
   "source": [
    "$\\textbf{X}$ je velika matrika. Ogljemo si nekaj njenih lastnosti ..."
   ]
  },
  {
   "cell_type": "code",
   "execution_count": null,
   "metadata": {
    "collapsed": true
   },
   "outputs": [],
   "source": [
    "# ...\n",
    "X.shape"
   ]
  },
  {
   "cell_type": "markdown",
   "metadata": {},
   "source": [
    "oz. jo narišimo."
   ]
  },
  {
   "cell_type": "code",
   "execution_count": null,
   "metadata": {
    "collapsed": false
   },
   "outputs": [],
   "source": [
    "plt.figure()\n",
    "plt.pcolor(X)\n",
    "plt.colorbar()\n",
    "plt.xlabel(\"Filmi\")\n",
    "plt.ylabel(\"Uporabniki\")\n",
    "plt.show()"
   ]
  },
  {
   "cell_type": "markdown",
   "metadata": {},
   "source": [
    "Preberimo še naslove filmov, ki predstavljajo stolpce matrike."
   ]
  },
  {
   "cell_type": "code",
   "execution_count": null,
   "metadata": {
    "collapsed": false
   },
   "outputs": [],
   "source": [
    "naslovi = csv.DictReader(open(\"data/vprasalnik.txt\"), delimiter=\",\").fieldnames\n",
    "naslovi"
   ]
  },
  {
   "cell_type": "markdown",
   "metadata": {},
   "source": [
    "<br/>\n",
    "<br/>\n",
    "Matrike so uporabne za učinkovito računanje, saj isto operacijo izvedemo na več številih (poadtkih) hkrati.\n",
    "Vse operacije, ki jih poznamo na številih, so definiranje tudi na matrikah, npr.\n",
    "* seštevanje\n",
    "* odštevanje\n",
    "* potenciranje\n",
    "* <b>množenje</B>\n",
    "* ...\n",
    "\n"
   ]
  },
  {
   "cell_type": "code",
   "execution_count": null,
   "metadata": {
    "collapsed": true
   },
   "outputs": [],
   "source": [
    "# ...\n"
   ]
  },
  {
   "cell_type": "markdown",
   "metadata": {
    "collapsed": true
   },
   "source": [
    "Zares uporabna operacija je množenje. Oglejmo si množenje matrik na primeru na tabli!"
   ]
  },
  {
   "cell_type": "code",
   "execution_count": null,
   "metadata": {
    "collapsed": false
   },
   "outputs": [],
   "source": [
    "# ...\n"
   ]
  },
  {
   "cell_type": "markdown",
   "metadata": {},
   "source": [
    "## Matrike nižjega ranga vsebujejo vzorce"
   ]
  },
  {
   "cell_type": "markdown",
   "metadata": {
    "collapsed": false
   },
   "source": [
    "Matrika, ki je produkt dveh manjših matrik ima posebne lastnosti. V linearni algebri jim pravimo <i>matrike nižjega ranga</i>. Ali opaziš razliko med matrikama $\\textbf{Y}$ in $\\textbf{Z}$?"
   ]
  },
  {
   "cell_type": "code",
   "execution_count": null,
   "metadata": {
    "collapsed": false
   },
   "outputs": [],
   "source": [
    "# Y in Z \n",
    "\n",
    "\n",
    "print(\"\\nY\", Y)\n",
    "print(\"\\nZ\", Z)"
   ]
  },
  {
   "cell_type": "code",
   "execution_count": null,
   "metadata": {
    "collapsed": false
   },
   "outputs": [],
   "source": [
    "plt.figure()\n",
    "fig, axes = plt.subplots(ncols=2, nrows=1, figsize=(15, 7))\n",
    "axes[1].pcolor(Z)\n",
    "axes[1].set_title(\"Z (Matrika nižjega ranga)\")\n",
    "axes[0].pcolor(Y)\n",
    "axes[0].set_title(\"Y (Matrika polnega ranga)\")\n",
    "plt.show()"
   ]
  },
  {
   "cell_type": "markdown",
   "metadata": {},
   "source": [
    "Lastnost matrike, nižjega ranga, ki jo opazimo, s pridom izkoriščajo algoritmi za iskanje vzorcev v \n",
    "* priporočilnih sistemih, \n",
    "* socialnih omrežjih, \n",
    "* slikah, \n",
    "* signalih,\n",
    "* ...\n",
    "\n",
    "Eden enostavnejših modelov za podatke je <b>faktorski model</b>, pripadajoči algoritem za učenje pa <b>matrična faktorizacija</b>."
   ]
  }
 ],
 "metadata": {
  "kernelspec": {
   "display_name": "Python 3",
   "language": "python",
   "name": "python3"
  },
  "language_info": {
   "codemirror_mode": {
    "name": "ipython",
    "version": 3
   },
   "file_extension": ".py",
   "mimetype": "text/x-python",
   "name": "python",
   "nbconvert_exporter": "python",
   "pygments_lexer": "ipython3",
   "version": "3.4.1"
  }
 },
 "nbformat": 4,
 "nbformat_minor": 0
}
