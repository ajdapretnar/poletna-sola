{
 "cells": [
  {
   "cell_type": "markdown",
   "metadata": {},
   "source": [
    "\n",
    "# Matrike in operacije\n",
    "<br/>\n",
    "\n",
    "<img src=\"img/img1.jpg\"/>\n"
   ]
  },
  {
   "cell_type": "code",
   "execution_count": 1,
   "metadata": {
    "collapsed": false
   },
   "outputs": [],
   "source": [
    "import numpy as np\n",
    "import matplotlib.pyplot as plt\n",
    "np.set_printoptions(precision=3)"
   ]
  },
  {
   "cell_type": "markdown",
   "metadata": {},
   "source": [
    "Matrike so <i>urejena polja števil</i>, ki spominja na tabelo. V računalništvu so splošno uporabne, nas pa bo zanimala predvsem uporaba za shranjevanje številskih podatkov. "
   ]
  },
  {
   "cell_type": "code",
   "execution_count": 2,
   "metadata": {
    "collapsed": false
   },
   "outputs": [
    {
     "data": {
      "text/plain": [
       "array([[3, 4],\n",
       "       [4, 3],\n",
       "       [2, 1]])"
      ]
     },
     "execution_count": 2,
     "metadata": {},
     "output_type": "execute_result"
    }
   ],
   "source": [
    "A = np.array([[3,4],[4,3], [2, 1]])\n",
    "A"
   ]
  },
  {
   "cell_type": "markdown",
   "metadata": {},
   "source": [
    "Matrika $\\textbf{A}$ je velikosti $3\\times2$. Tu je še ena matrika drugačne velikosti:"
   ]
  },
  {
   "cell_type": "code",
   "execution_count": 5,
   "metadata": {
    "collapsed": false
   },
   "outputs": [
    {
     "data": {
      "text/plain": [
       "array([[ 1. ,  4.1,  3. ,  4. ],\n",
       "       [ 1. ,  3. ,  2. ,  4. ]])"
      ]
     },
     "execution_count": 5,
     "metadata": {},
     "output_type": "execute_result"
    }
   ],
   "source": [
    "B = np.array([[1,4.1,3,4],[1,3,2,4],])\n",
    "B"
   ]
  },
  {
   "cell_type": "markdown",
   "metadata": {},
   "source": [
    "Oglejmo si matriko podatkov ocen filmov, ki ste jo zgradili z odgovori vprašalnik. "
   ]
  },
  {
   "cell_type": "code",
   "execution_count": 6,
   "metadata": {
    "collapsed": false
   },
   "outputs": [
    {
     "data": {
      "text/plain": [
       "array([[ 0.,  0.,  0., ...,  0.,  0.,  0.],\n",
       "       [ 0.,  0.,  0., ...,  0.,  0.,  0.],\n",
       "       [ 0.,  0.,  0., ...,  0.,  0.,  0.],\n",
       "       ..., \n",
       "       [ 5.,  4.,  0., ...,  4.,  5.,  5.],\n",
       "       [ 1.,  5.,  3., ...,  5.,  0.,  2.],\n",
       "       [ 0.,  5.,  1., ...,  5.,  0.,  0.]])"
      ]
     },
     "execution_count": 6,
     "metadata": {},
     "output_type": "execute_result"
    }
   ],
   "source": [
    "X = np.loadtxt(open(\"data/vprasalnik.txt\", encoding=\"utf-8\"), skiprows=1, delimiter=\",\")\n",
    "X"
   ]
  },
  {
   "cell_type": "markdown",
   "metadata": {},
   "source": [
    "$\\textbf{X}$ je velika matrika. Ogljemo si nekaj njenih lastnosti ..."
   ]
  },
  {
   "cell_type": "code",
   "execution_count": 7,
   "metadata": {
    "collapsed": false
   },
   "outputs": [
    {
     "data": {
      "text/plain": [
       "(138, 10)"
      ]
     },
     "execution_count": 7,
     "metadata": {},
     "output_type": "execute_result"
    }
   ],
   "source": [
    "# ...\n",
    "X.shape"
   ]
  },
  {
   "cell_type": "markdown",
   "metadata": {},
   "source": [
    "oz. jo narišimo."
   ]
  },
  {
   "cell_type": "code",
   "execution_count": 27,
   "metadata": {
    "collapsed": false
   },
   "outputs": [],
   "source": [
    "import csv\n",
    "plt.figure()\n",
    "plt.pcolor(X)\n",
    "plt.colorbar()\n",
    "plt.xlabel(\"Filmi\")\n",
    "plt.ylabel(\"Uporabniki\")\n",
    "plt.show()"
   ]
  },
  {
   "cell_type": "markdown",
   "metadata": {},
   "source": [
    "Preberimo še naslove filmov, ki predstavljajo stolpce matrike."
   ]
  },
  {
   "cell_type": "code",
   "execution_count": 11,
   "metadata": {
    "collapsed": false
   },
   "outputs": [
    {
     "data": {
      "text/plain": [
       "['Amelie (2001)',\n",
       " 'Izvor (Inception,  2010)',\n",
       " 'Vitez teme (The Dark Knight, 2008)',\n",
       " 'Titanic (1997)',\n",
       " 'Beležnica (Notebook, 2004)',\n",
       " '3 idioti (3 Idiots, 2009)',\n",
       " 'Matrica (Matrix, 1999)',\n",
       " \"Življenje je lepo (La vita e' bella, 1997)\",\n",
       " 'Veliki Lebowski (Big Lebowski, 1998)',\n",
       " 'Reševanje vojaka Ryana (Saving private Ryan, 1998)']"
      ]
     },
     "execution_count": 11,
     "metadata": {},
     "output_type": "execute_result"
    }
   ],
   "source": [
    "naslovi = csv.DictReader(open(\"data/vprasalnik.txt\"), delimiter=\",\").fieldnames\n",
    "naslovi"
   ]
  },
  {
   "cell_type": "markdown",
   "metadata": {},
   "source": [
    "<br/>\n",
    "<br/>\n",
    "Matrike so uporabne za učinkovito računanje, saj isto operacijo izvedemo na več številih (poadtkih) hkrati.\n",
    "Vse operacije, ki jih poznamo na številih, so definiranje tudi na matrikah, npr.\n",
    "* seštevanje\n",
    "* odštevanje\n",
    "* potenciranje\n",
    "* <b>množenje</B>\n",
    "* ...\n",
    "\n"
   ]
  },
  {
   "cell_type": "code",
   "execution_count": 17,
   "metadata": {
    "collapsed": false
   },
   "outputs": [
    {
     "name": "stdout",
     "output_type": "stream",
     "text": [
      "[[3 4]\n",
      " [4 3]\n",
      " [2 1]]\n"
     ]
    },
    {
     "data": {
      "text/plain": [
       "array([[ 9, 16],\n",
       "       [16,  9],\n",
       "       [ 4,  1]])"
      ]
     },
     "execution_count": 17,
     "metadata": {},
     "output_type": "execute_result"
    }
   ],
   "source": [
    "# ...\n",
    "print(A)\n",
    "A * A"
   ]
  },
  {
   "cell_type": "markdown",
   "metadata": {
    "collapsed": true
   },
   "source": [
    "Zares uporabna operacija je množenje. Oglejmo si množenje matrik na primeru na tabli!"
   ]
  },
  {
   "cell_type": "code",
   "execution_count": null,
   "metadata": {
    "collapsed": false
   },
   "outputs": [],
   "source": [
    "# ...\n"
   ]
  },
  {
   "cell_type": "markdown",
   "metadata": {},
   "source": [
    "## Matrike nižjega ranga vsebujejo vzorce"
   ]
  },
  {
   "cell_type": "markdown",
   "metadata": {
    "collapsed": false
   },
   "source": [
    "Matrika, ki je produkt dveh manjših matrik ima posebne lastnosti. V linearni algebri jim pravimo <i>matrike nižjega ranga</i>. Ali opaziš razliko med matrikama $\\textbf{Y}$ in $\\textbf{Z}$?"
   ]
  },
  {
   "cell_type": "code",
   "execution_count": 25,
   "metadata": {
    "collapsed": false
   },
   "outputs": [
    {
     "name": "stdout",
     "output_type": "stream",
     "text": [
      "\n",
      "Y [[ 0.87   0.355  0.931 ...,  0.723  0.405  0.842]\n",
      " [ 0.966  0.913  0.818 ...,  0.032  0.209  0.329]\n",
      " [ 0.418  0.814  0.471 ...,  0.569  0.332  0.595]\n",
      " ..., \n",
      " [ 0.503  0.611  0.493 ...,  0.14   0.947  0.451]\n",
      " [ 0.14   0.207  0.67  ...,  0.42   0.751  0.639]\n",
      " [ 0.806  0.049  0.109 ...,  0.872  0.796  0.25 ]]\n",
      "\n",
      "Z [[ 0.349  0.565  0.094 ...,  0.062  0.331  0.087]\n",
      " [ 0.386  0.624  0.104 ...,  0.068  0.366  0.096]\n",
      " [ 0.524  0.848  0.142 ...,  0.093  0.497  0.131]\n",
      " ..., \n",
      " [ 0.076  0.122  0.02  ...,  0.013  0.072  0.019]\n",
      " [ 0.48   0.776  0.13  ...,  0.085  0.455  0.12 ]\n",
      " [ 0.119  0.193  0.032 ...,  0.021  0.113  0.03 ]]\n"
     ]
    }
   ],
   "source": [
    "# Y in Z \n",
    "Y = np.random.rand(50, 50)\n",
    "Z = np.random.rand(50, 1).dot(np.random.rand(1, 50))\n",
    "\n",
    "\n",
    "print(\"\\nY\", Y)\n",
    "print(\"\\nZ\", Z)"
   ]
  },
  {
   "cell_type": "code",
   "execution_count": 26,
   "metadata": {
    "collapsed": false
   },
   "outputs": [],
   "source": [
    "plt.figure()\n",
    "fig, axes = plt.subplots(ncols=2, nrows=1, figsize=(15, 7))\n",
    "axes[1].pcolor(Z)\n",
    "axes[1].set_title(\"Z (Matrika nižjega ranga)\")\n",
    "axes[0].pcolor(Y)\n",
    "axes[0].set_title(\"Y (Matrika polnega ranga)\")\n",
    "plt.show()"
   ]
  },
  {
   "cell_type": "markdown",
   "metadata": {},
   "source": [
    "Lastnost matrike, nižjega ranga, ki jo opazimo, s pridom izkoriščajo algoritmi za iskanje vzorcev v \n",
    "* priporočilnih sistemih, \n",
    "* socialnih omrežjih, \n",
    "* slikah, \n",
    "* signalih,\n",
    "* ...\n",
    "\n",
    "Eden enostavnejših modelov za podatke je <b>faktorski model</b>, pripadajoči algoritem za učenje pa <b>matrična faktorizacija</b>."
   ]
  }
 ],
 "metadata": {
  "kernelspec": {
   "display_name": "Python 3",
   "language": "python",
   "name": "python3"
  },
  "language_info": {
   "codemirror_mode": {
    "name": "ipython",
    "version": 3
   },
   "file_extension": ".py",
   "mimetype": "text/x-python",
   "name": "python",
   "nbconvert_exporter": "python",
   "pygments_lexer": "ipython3",
   "version": "3.4.1"
  }
 },
 "nbformat": 4,
 "nbformat_minor": 0
}
